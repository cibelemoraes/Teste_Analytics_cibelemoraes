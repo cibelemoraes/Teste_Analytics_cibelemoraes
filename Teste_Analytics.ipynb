{
 "cells": [
  {
   "cell_type": "markdown",
   "metadata": {
    "colab_type": "text",
    "id": "view-in-github"
   },
   "source": [
    "<a href=\"https://colab.research.google.com/github/cibelemoraes/Teste_Analytics_cibelemoraes/blob/main/Teste_Analytics.ipynb\" target=\"_parent\"><img src=\"https://colab.research.google.com/assets/colab-badge.svg\" alt=\"Open In Colab\"/></a>"
   ]
  },
  {
   "cell_type": "markdown",
   "metadata": {
    "id": "Fxo01K56zSVY"
   },
   "source": [
    "##Análise de dados do Quiosque da Praia - *2023*\n"
   ]
  },
  {
   "cell_type": "markdown",
   "metadata": {
    "id": "Ps2dduPlGgiS"
   },
   "source": [
    "IMPORTANDO BIBLIOTECAS\n"
   ]
  },
  {
   "cell_type": "code",
   "execution_count": 3,
   "metadata": {
    "id": "0FY9Ca2PGP24"
   },
   "outputs": [],
   "source": [
    "import sqlite3\n",
    "import pandas as pd\n",
    "import numpy as np\n"
   ]
  },
  {
   "cell_type": "markdown",
   "metadata": {
    "id": "C8K4W5QTf0CL"
   },
   "source": [
    "1.   Limpeza e Análise de Dados de Vendas"
   ]
  },
  {
   "cell_type": "markdown",
   "metadata": {
    "id": "Xzb7N2VUHPYp"
   },
   "source": [
    "VOU CRIAR UMA DATA FRAME COM MINHAS COLUNAS PRE-DEFINIDAS"
   ]
  },
  {
   "cell_type": "code",
   "execution_count": 4,
   "metadata": {
    "id": "R9EPh-T9Gk7G"
   },
   "outputs": [],
   "source": [
    "colunas = [\"Data\", \"Produto\", \"Categoria\", \"Quantidade\", \"Preço\"]\n",
    "df = pd.DataFrame(columns=colunas)  #inserindo as colunas no meu dataframe"
   ]
  },
  {
   "cell_type": "markdown",
   "metadata": {
    "id": "Q9AiD5owH1Hc"
   },
   "source": [
    "CRIANDO DADOS PARA O MEU DATAFRAME\n"
   ]
  },
  {
   "cell_type": "code",
   "execution_count": 40,
   "metadata": {
    "id": "AuELVkNzH5z4"
   },
   "outputs": [],
   "source": [
    "DADOS = [\n",
    "    [\"02/01/2023\", \"COXINHA\", \"SALGADO\", 3, 9],\n",
    "    [\"20/01/2023\", \"PASTEL\", \"SALGADO\", 14, 12],\n",
    "    [\"29/01/2023\", \"ESFIRRA\", \"SALGADO\", 5, 15],\n",
    "    [\"30/01/2023\", \"SACOLE\", \"DOCE\",5 , 20],\n",
    "    [\"02/01/2023\", \"CHOCOLATE QUENTE\", \"DIVERSOS\", 2, 5],\n",
    "    [\"20/01/2023\", \"SORVETE\", \"DOCE\", 9, 8],\n",
    "    [\"26/01/2023\", \"AGUA\", \"DIVERSOS\", 20, 2],\n",
    "    [\"29/01/2023\", \"COCO\", \"DIVERSOS\",25 , 3],\n",
    "    [\"30/01/2023\", \"SORVETE\", \"DOCE\", 10, 8],\n",
    "    [\"01/02/2023\", \"COXINHA\", \"SALGADO\", 13, 9],\n",
    "    [\"10/02/2023\", \"BRIGADEIRO\", \"DOCE\", 10, 2],\n",
    "    [\"16/02/2023\", \"BIS\", \"DOCE\", 15, 5],\n",
    "    [\"18/02/2023\", \"RISOLE\", \"SALGADO\", 4, 10],\n",
    "    [\"28/02/2023\", \"ESFIRRA\", \"SALGADO\", 9, 15],\n",
    "    [\"02/02/2023\", \"CHOCOLATE QUENTE\", \"DIVERSOS\", 3, 5],\n",
    "    [\"20/02/2023\", \"SORVETE\", \"DOCE\", 10, 8],\n",
    "    [\"26/02/2023\", \"AGUA\", \"DIVERSOS\", 21, 2],\n",
    "    [\"27/02/2023\", \"COCO\", \"DIVERSOS\", 26, 3],\n",
    "    [\"28/02/2023\", \"SORVETE\", \"DOCE\", 11, 8],\n",
    "    [\"02/03/2023\", \"COXINHA\", \"SALGADO\", 13, 9],\n",
    "    [\"20/03/2023\", \"PASTEL\", \"SALGADO\", 4, 12],\n",
    "    [\"29/03/2023\", \"ESFIRRA\", \"SALGADO\", 5, 15],\n",
    "    [\"30/03/2023\", \"SACOLE\", \"DOCE\", 5, 20],\n",
    "    [\"02/03/2023\", \"CHOCOLATE QUENTE\", \"DIVERSOS\", 4, 5],\n",
    "    [\"20/03/2023\", \"SORVETE\", \"DOCE\", 11, 8],\n",
    "    [\"26/03/2023\", \"AGUA\", \"DIVERSOS\", 22, 2],\n",
    "    [\"29/03/2023\", \"COCO\", \"DIVERSOS\",28 , 3],\n",
    "    [\"30/03/2023\", \"SORVETE\", \"DOCE\", 13, 8],\n",
    "    [\"01/04/2023\", \"COXINHA\", \"SALGADO\", 13, ],\n",
    "    [\"10/04/2023\", \"BRIGADEIRO\", \"DOCE\", 10, 2],\n",
    "    [\"16/04/2023\", \"BIS\", \"DOCE\", 15, 5],\n",
    "    [\"18/04/2023\", \"RISOLE\", \"SALGADO\", 4, 10],\n",
    "    [\"25/04/2023\", \"ESFIRRA\", \"SALGADO\", 15, 15],\n",
    "    [\"26/04/2023\", \"COXINHA\", \"SALGADO\", 3, 9],\n",
    "    [\"27/04/2023\", \"PASTEL\", \"SALGADO\", 14, 12],\n",
    "    [\"02/04/2023\", \"CHOCOLATE QUENTE\", \"DIVERSOS\", 6, 5],\n",
    "    [\"20/04/2023\", \"SORVETE\", \"DOCE\", 16, 8],\n",
    "    [\"26/04/2023\", \"AGUA\", \"DIVERSOS\", 28, 2],\n",
    "    [\"29/04/2023\", \"COCO\", \"DIVERSOS\",30 , 3],\n",
    "    [\"30/04/2023\", \"SORVETE\", \"DOCE\", 18, 8],\n",
    "    [\"01/05/2023\", \"ESFIRRA\", \"SALGADO\", 5, 15],\n",
    "    [\"02/05/2023\", \"SACOLE\", \"DOCE\", 5, 20],\n",
    "    [\"06/05/2023\", \"COXINHA\", \"SALGADO\", 3, ],\n",
    "    [\"10/05/2023\", \"BRIGADEIRO\", \"DOCE\", 10, 2],\n",
    "    [\"16/05/2023\", \"BIS\", \"DOCE\", 11, 5],\n",
    "    [\"18/05/2023\", \"RISOLE\", \"SALGADO\", 4, 10],\n",
    "    [\"25/05/2023\", \"ESFIRRA\", \"SALGADO\", 5, 15],\n",
    "    [\"02/05/2023\", \"CHOCOLATE QUENTE\", \"DIVERSOS\", 5, 5],\n",
    "    [\"20/05/2023\", \"SORVETE\", \"DOCE\", 15, 8],\n",
    "    [\"26/05/2023\", \"AGUA\", \"DIVERSOS\", 25, 2],\n",
    "    [\"29/05/2023\", \"COCO\", \"DIVERSOS\",28 , 3],\n",
    "    [\"30/05/2023\", \"SORVETE\", \"DOCE\", 15, 8],\n",
    "    [\"02/06/2023\", \"COXINHA\", \"SALGADO\", 3, 9],\n",
    "    [\"20/06/2023\", \"PASTEL\", \"SALGADO\", 2, 12],\n",
    "    [\"29/06/2023\", \"ESFIRRA\", \"SALGADO\", 5, 15],\n",
    "    [\"30/06/2023\", \"SACOLE\", \"DOCE\", 5, 20],\n",
    "    [\"02/06/2023\", \"CHOCOLATE QUENTE\", \"DIVERSOS\", 10, 5],\n",
    "    [\"20/06/2023\", \"SORVETE\", \"DOCE\", 2, 8],\n",
    "    [\"26/06/2023\", \"AGUA\", \"DIVERSOS\", 10, 2],\n",
    "    [\"29/06/2023\", \"COCO\", \"DIVERSOS\",8 , 3],\n",
    "    [\"30/06/2023\", \"SORVETE\", \"DOCE\", 3, 8],\n",
    "    [\"01/07/2023\", \"COXINHA\", \"SALGADO\", 3, 9],\n",
    "    [\"10/07/2023\", \"BRIGADEIRO\", \"DOCE\", 10, 2],\n",
    "    [\"16/07/2023\", \"BIS\", \"DOCE\", 15, 5],\n",
    "    [\"18/05/2023\", \"RISOLE\", \"SALGADO\", 4, 10],\n",
    "    [\"25/07/2023\", \"ESFIRRA\", \"SALGADO\", 5, 15],\n",
    "    [\"02/07/2023\", \"CHOCOLATE QUENTE\", \"DIVERSOS\", 8, 5],\n",
    "    [\"20/07/2023\", \"SORVETE\", \"DOCE\", 1, 8],\n",
    "    [\"26/07/2023\", \"AGUA\", \"DIVERSOS\", 9, 2],\n",
    "    [\"29/07/2023\", \"COCO\", \"DIVERSOS\", 7, 3],\n",
    "    [\"30/07/2023\", \"SORVETE\", \"DOCE\", 2, 8],\n",
    "    [\"02/08/2023\", \"COXINHA\", \"SALGADO\", 3, 9],\n",
    "    [\"20/08/2023\", \"PASTEL\", \"SALGADO\", 4, 12],\n",
    "    [\"29/08/2023\", \"ESFIRRA\", \"SALGADO\", 5, 15],\n",
    "    [\"30/08/2023\", \"SACOLE\", \"DOCE\", 10, 20],\n",
    "    [\"02/08/2023\", \"CHOCOLATE QUENTE\", \"DIVERSOS\", 12, 5],\n",
    "    [\"20/08/2023\", \"SORVETE\", \"DOCE\", 6, 8],\n",
    "    [\"26/08/2023\", \"AGUA\", \"DIVERSOS\", 12, 2],\n",
    "    [\"29/08/2023\", \"COCO\", \"DIVERSOS\", 16, 3],\n",
    "    [\"30/08/2023\", \"SORVETE\", \"DOCE\", 9, 8],\n",
    "    [\"01/09/2023\", \"COXINHA\", \"SALGADO\", 3, 9],\n",
    "    [\"10/09/2023\", \"BRIGADEIRO\", \"DOCE\", 10, 2],\n",
    "    [\"16/09/2023\", \"BIS\", \"DOCE\", 15, 5],\n",
    "    [\"18/09/2023\", \"RISOLE\", \"SALGADO\", 4, 10],\n",
    "    [\"25/09/2023\", \"ESFIRRA\", \"SALGADO\", 5, 15],\n",
    "    [\"02/09/2023\", \"CHOCOLATE QUENTE\", \"DIVERSOS\", 10, 5],\n",
    "    [\"20/09/2023\", \"SORVETE\", \"DOCE\", 5, 8],\n",
    "    [\"26/09/2023\", \"AGUA\", \"DIVERSOS\", 10, 2],\n",
    "    [\"29/09/2023\", \"COCO\", \"DIVERSOS\", 13, 3],\n",
    "    [\"30/09/2023\", \"SORVETE\", \"DOCE\", 8, 8],\n",
    "    [\"02/10/2023\", \"COXINHA\", \"SALGADO\", 3, 9],\n",
    "    [\"20/10/2023\", \"PASTEL\", \"SALGADO\", 4, 12],\n",
    "    [\"29/10/2023\", \"ESFIRRA\", \"SALGADO\", 5, 15],\n",
    "    [\"30/10/2023\", \"SACOLE\", \"DOCE\", 5, 20],\n",
    "    [\"02/10/2023\", \"CHOCOLATE QUENTE\", \"DIVERSOS\", 12, 5],\n",
    "    [\"20/10/2023\", \"SORVETE\", \"DOCE\", 16, 8],\n",
    "    [\"26/10/2023\", \"AGUA\", \"DIVERSOS\", 12, 2],\n",
    "    [\"29/10/2023\", \"COCO\", \"DIVERSOS\", 14, 3],\n",
    "    [\"30/10/2023\", \"SORVETE\", \"DOCE\", 10, 8],\n",
    "    [\"01/11/2023\", \"COXINHA\", \"SALGADO\", 3, 9],\n",
    "    [\"10/11/2023\", \"BRIGADEIRO\", \"DOCE\", 10, 2],\n",
    "    [\"16/11/2023\", \"BIS\", \"DOCE\", 18, 5],\n",
    "    [\"18/11/2023\", \"RISOLE\", \"SALGADO\", 4, 10],\n",
    "    [\"25/11/2023\", \"ESFIRRA\", \"SALGADO\", 5, 15],\n",
    "    [\"02/11/2023\", \"CHOCOLATE QUENTE\", \"DIVERSOS\", 12, 5],\n",
    "    [\"20/11/2023\", \"SORVETE\", \"DOCE\", 16, 8],\n",
    "    [\"26/11/2023\", \"AGUA\", \"DIVERSOS\", 12, 2],\n",
    "    [\"29/11/2023\", \"COCO\", \"DIVERSOS\", 14, 3],\n",
    "    [\"30/11/2023\", \"SORVETE\", \"DOCE\", 10, 8],\n",
    "    [\"02/12/2023\", \"COXINHA\", \"SALGADO\", 3, 9],\n",
    "    [\"10/12/2023\", \"PASTEL\", \"SALGADO\", 9, 12],\n",
    "    [\"12/12/2023\", \"ESFIRRA\", \"SALGADO\", 5, 15],\n",
    "    [\"30/12/2023\", \"SACOLE\", \"DOCE\", 5, 20],\n",
    "    [\"16/12/2023\", \"COXINHA\", \"SALGADO\", 3, 9],\n",
    "    [\"18/12/2023\", \"BRIGADEIRO\", \"DOCE\", 5 , 2],\n",
    "    [\"22/12/2023\", \"BIS\", \"DOCE\", 15, 5],\n",
    "    [\"24/12/2023\", \"RISOLE\", \"SALGADO\", 4, 10],\n",
    "    [\"25/12/2023\", \"ESFIRRA\", \"SALGADO\", 5, 15],\n",
    "    [\"02/12/2023\", \"CHOCOLATE QUENTE\", \"DIVERSOS\", 10, 5],\n",
    "    [\"20/12/2023\", \"SORVETE\", \"DOCE\", 19, 8],\n",
    "    [\"26/12/2023\", \"AGUA\", \"DIVERSOS\", 22, 2],\n",
    "    [\"29/12/2023\", \"COCO\", \"DIVERSOS\", 24, 3],\n",
    "    [\"30/12/2023\", \"SORVETE\", \"DOCE\", 30, 8],\n",
    "\n",
    "]"
   ]
  },
  {
   "cell_type": "code",
   "execution_count": 41,
   "metadata": {
    "id": "arrmbjYsNh4Z"
   },
   "outputs": [],
   "source": [
    "df = pd.DataFrame(DADOS, columns=colunas) #adicionando os meus dados ao meu dataframe\n"
   ]
  },
  {
   "cell_type": "code",
   "execution_count": 42,
   "metadata": {
    "colab": {
     "base_uri": "https://localhost:8080/",
     "height": 990
    },
    "id": "W_aH1wONOB8q",
    "outputId": "8d1604b2-2f5c-497a-e6b2-5e88c1daceac"
   },
   "outputs": [
    {
     "data": {
      "application/vnd.google.colaboratory.intrinsic+json": {
       "summary": "{\n  \"name\": \"df\",\n  \"rows\": 123,\n  \"fields\": [\n    {\n      \"column\": \"Data\",\n      \"properties\": {\n        \"dtype\": \"string\",\n        \"num_unique_values\": 97,\n        \"samples\": [\n          \"16/09/2023\",\n          \"30/05/2023\",\n          \"25/12/2023\"\n        ],\n        \"semantic_type\": \"\",\n        \"description\": \"\"\n      }\n    },\n    {\n      \"column\": \"Produto\",\n      \"properties\": {\n        \"dtype\": \"category\",\n        \"num_unique_values\": 11,\n        \"samples\": [\n          \"SORVETE\",\n          \"COXINHA\",\n          \"BIS\"\n        ],\n        \"semantic_type\": \"\",\n        \"description\": \"\"\n      }\n    },\n    {\n      \"column\": \"Categoria\",\n      \"properties\": {\n        \"dtype\": \"category\",\n        \"num_unique_values\": 3,\n        \"samples\": [\n          \"SALGADO\",\n          \"DOCE\",\n          \"DIVERSOS\"\n        ],\n        \"semantic_type\": \"\",\n        \"description\": \"\"\n      }\n    },\n    {\n      \"column\": \"Quantidade\",\n      \"properties\": {\n        \"dtype\": \"number\",\n        \"std\": 6,\n        \"min\": 1,\n        \"max\": 30,\n        \"num_unique_values\": 26,\n        \"samples\": [\n          13,\n          6,\n          3\n        ],\n        \"semantic_type\": \"\",\n        \"description\": \"\"\n      }\n    },\n    {\n      \"column\": \"Pre\\u00e7o\",\n      \"properties\": {\n        \"dtype\": \"number\",\n        \"std\": 5.000661113317713,\n        \"min\": 2.0,\n        \"max\": 20.0,\n        \"num_unique_values\": 9,\n        \"samples\": [\n          3.0,\n          12.0,\n          8.0\n        ],\n        \"semantic_type\": \"\",\n        \"description\": \"\"\n      }\n    }\n  ]\n}",
       "type": "dataframe",
       "variable_name": "df"
      },
      "text/html": [
       "\n",
       "  <div id=\"df-4f578795-983e-447e-a972-b24215921ca1\" class=\"colab-df-container\">\n",
       "    <div>\n",
       "<style scoped>\n",
       "    .dataframe tbody tr th:only-of-type {\n",
       "        vertical-align: middle;\n",
       "    }\n",
       "\n",
       "    .dataframe tbody tr th {\n",
       "        vertical-align: top;\n",
       "    }\n",
       "\n",
       "    .dataframe thead th {\n",
       "        text-align: right;\n",
       "    }\n",
       "</style>\n",
       "<table border=\"1\" class=\"dataframe\">\n",
       "  <thead>\n",
       "    <tr style=\"text-align: right;\">\n",
       "      <th></th>\n",
       "      <th>Data</th>\n",
       "      <th>Produto</th>\n",
       "      <th>Categoria</th>\n",
       "      <th>Quantidade</th>\n",
       "      <th>Preço</th>\n",
       "    </tr>\n",
       "  </thead>\n",
       "  <tbody>\n",
       "    <tr>\n",
       "      <th>0</th>\n",
       "      <td>02/01/2023</td>\n",
       "      <td>COXINHA</td>\n",
       "      <td>SALGADO</td>\n",
       "      <td>3</td>\n",
       "      <td>9.0</td>\n",
       "    </tr>\n",
       "    <tr>\n",
       "      <th>1</th>\n",
       "      <td>20/01/2023</td>\n",
       "      <td>PASTEL</td>\n",
       "      <td>SALGADO</td>\n",
       "      <td>14</td>\n",
       "      <td>12.0</td>\n",
       "    </tr>\n",
       "    <tr>\n",
       "      <th>2</th>\n",
       "      <td>29/01/2023</td>\n",
       "      <td>ESFIRRA</td>\n",
       "      <td>SALGADO</td>\n",
       "      <td>5</td>\n",
       "      <td>15.0</td>\n",
       "    </tr>\n",
       "    <tr>\n",
       "      <th>3</th>\n",
       "      <td>30/01/2023</td>\n",
       "      <td>SACOLE</td>\n",
       "      <td>DOCE</td>\n",
       "      <td>5</td>\n",
       "      <td>20.0</td>\n",
       "    </tr>\n",
       "    <tr>\n",
       "      <th>4</th>\n",
       "      <td>02/01/2023</td>\n",
       "      <td>CHOCOLATE QUENTE</td>\n",
       "      <td>DIVERSOS</td>\n",
       "      <td>2</td>\n",
       "      <td>5.0</td>\n",
       "    </tr>\n",
       "    <tr>\n",
       "      <th>5</th>\n",
       "      <td>20/01/2023</td>\n",
       "      <td>SORVETE</td>\n",
       "      <td>DOCE</td>\n",
       "      <td>9</td>\n",
       "      <td>8.0</td>\n",
       "    </tr>\n",
       "    <tr>\n",
       "      <th>6</th>\n",
       "      <td>26/01/2023</td>\n",
       "      <td>AGUA</td>\n",
       "      <td>DIVERSOS</td>\n",
       "      <td>20</td>\n",
       "      <td>2.0</td>\n",
       "    </tr>\n",
       "    <tr>\n",
       "      <th>7</th>\n",
       "      <td>29/01/2023</td>\n",
       "      <td>COCO</td>\n",
       "      <td>DIVERSOS</td>\n",
       "      <td>25</td>\n",
       "      <td>3.0</td>\n",
       "    </tr>\n",
       "    <tr>\n",
       "      <th>8</th>\n",
       "      <td>30/01/2023</td>\n",
       "      <td>SORVETE</td>\n",
       "      <td>DOCE</td>\n",
       "      <td>10</td>\n",
       "      <td>8.0</td>\n",
       "    </tr>\n",
       "    <tr>\n",
       "      <th>9</th>\n",
       "      <td>01/02/2023</td>\n",
       "      <td>COXINHA</td>\n",
       "      <td>SALGADO</td>\n",
       "      <td>13</td>\n",
       "      <td>9.0</td>\n",
       "    </tr>\n",
       "    <tr>\n",
       "      <th>10</th>\n",
       "      <td>10/02/2023</td>\n",
       "      <td>BRIGADEIRO</td>\n",
       "      <td>DOCE</td>\n",
       "      <td>10</td>\n",
       "      <td>2.0</td>\n",
       "    </tr>\n",
       "    <tr>\n",
       "      <th>11</th>\n",
       "      <td>16/02/2023</td>\n",
       "      <td>BIS</td>\n",
       "      <td>DOCE</td>\n",
       "      <td>15</td>\n",
       "      <td>5.0</td>\n",
       "    </tr>\n",
       "    <tr>\n",
       "      <th>12</th>\n",
       "      <td>18/02/2023</td>\n",
       "      <td>RISOLE</td>\n",
       "      <td>SALGADO</td>\n",
       "      <td>4</td>\n",
       "      <td>10.0</td>\n",
       "    </tr>\n",
       "    <tr>\n",
       "      <th>13</th>\n",
       "      <td>28/02/2023</td>\n",
       "      <td>ESFIRRA</td>\n",
       "      <td>SALGADO</td>\n",
       "      <td>9</td>\n",
       "      <td>15.0</td>\n",
       "    </tr>\n",
       "    <tr>\n",
       "      <th>14</th>\n",
       "      <td>02/02/2023</td>\n",
       "      <td>CHOCOLATE QUENTE</td>\n",
       "      <td>DIVERSOS</td>\n",
       "      <td>3</td>\n",
       "      <td>5.0</td>\n",
       "    </tr>\n",
       "    <tr>\n",
       "      <th>15</th>\n",
       "      <td>20/02/2023</td>\n",
       "      <td>SORVETE</td>\n",
       "      <td>DOCE</td>\n",
       "      <td>10</td>\n",
       "      <td>8.0</td>\n",
       "    </tr>\n",
       "    <tr>\n",
       "      <th>16</th>\n",
       "      <td>26/02/2023</td>\n",
       "      <td>AGUA</td>\n",
       "      <td>DIVERSOS</td>\n",
       "      <td>21</td>\n",
       "      <td>2.0</td>\n",
       "    </tr>\n",
       "    <tr>\n",
       "      <th>17</th>\n",
       "      <td>27/02/2023</td>\n",
       "      <td>COCO</td>\n",
       "      <td>DIVERSOS</td>\n",
       "      <td>26</td>\n",
       "      <td>3.0</td>\n",
       "    </tr>\n",
       "    <tr>\n",
       "      <th>18</th>\n",
       "      <td>28/02/2023</td>\n",
       "      <td>SORVETE</td>\n",
       "      <td>DOCE</td>\n",
       "      <td>11</td>\n",
       "      <td>8.0</td>\n",
       "    </tr>\n",
       "    <tr>\n",
       "      <th>19</th>\n",
       "      <td>02/03/2023</td>\n",
       "      <td>COXINHA</td>\n",
       "      <td>SALGADO</td>\n",
       "      <td>13</td>\n",
       "      <td>9.0</td>\n",
       "    </tr>\n",
       "    <tr>\n",
       "      <th>20</th>\n",
       "      <td>20/03/2023</td>\n",
       "      <td>PASTEL</td>\n",
       "      <td>SALGADO</td>\n",
       "      <td>4</td>\n",
       "      <td>12.0</td>\n",
       "    </tr>\n",
       "    <tr>\n",
       "      <th>21</th>\n",
       "      <td>29/03/2023</td>\n",
       "      <td>ESFIRRA</td>\n",
       "      <td>SALGADO</td>\n",
       "      <td>5</td>\n",
       "      <td>15.0</td>\n",
       "    </tr>\n",
       "    <tr>\n",
       "      <th>22</th>\n",
       "      <td>30/03/2023</td>\n",
       "      <td>SACOLE</td>\n",
       "      <td>DOCE</td>\n",
       "      <td>5</td>\n",
       "      <td>20.0</td>\n",
       "    </tr>\n",
       "    <tr>\n",
       "      <th>23</th>\n",
       "      <td>02/03/2023</td>\n",
       "      <td>CHOCOLATE QUENTE</td>\n",
       "      <td>DIVERSOS</td>\n",
       "      <td>4</td>\n",
       "      <td>5.0</td>\n",
       "    </tr>\n",
       "    <tr>\n",
       "      <th>24</th>\n",
       "      <td>20/03/2023</td>\n",
       "      <td>SORVETE</td>\n",
       "      <td>DOCE</td>\n",
       "      <td>11</td>\n",
       "      <td>8.0</td>\n",
       "    </tr>\n",
       "    <tr>\n",
       "      <th>25</th>\n",
       "      <td>26/03/2023</td>\n",
       "      <td>AGUA</td>\n",
       "      <td>DIVERSOS</td>\n",
       "      <td>22</td>\n",
       "      <td>2.0</td>\n",
       "    </tr>\n",
       "    <tr>\n",
       "      <th>26</th>\n",
       "      <td>29/03/2023</td>\n",
       "      <td>COCO</td>\n",
       "      <td>DIVERSOS</td>\n",
       "      <td>28</td>\n",
       "      <td>3.0</td>\n",
       "    </tr>\n",
       "    <tr>\n",
       "      <th>27</th>\n",
       "      <td>30/03/2023</td>\n",
       "      <td>SORVETE</td>\n",
       "      <td>DOCE</td>\n",
       "      <td>13</td>\n",
       "      <td>8.0</td>\n",
       "    </tr>\n",
       "    <tr>\n",
       "      <th>28</th>\n",
       "      <td>01/04/2023</td>\n",
       "      <td>COXINHA</td>\n",
       "      <td>SALGADO</td>\n",
       "      <td>13</td>\n",
       "      <td>NaN</td>\n",
       "    </tr>\n",
       "    <tr>\n",
       "      <th>29</th>\n",
       "      <td>10/04/2023</td>\n",
       "      <td>BRIGADEIRO</td>\n",
       "      <td>DOCE</td>\n",
       "      <td>10</td>\n",
       "      <td>2.0</td>\n",
       "    </tr>\n",
       "  </tbody>\n",
       "</table>\n",
       "</div>\n",
       "    <div class=\"colab-df-buttons\">\n",
       "\n",
       "  <div class=\"colab-df-container\">\n",
       "    <button class=\"colab-df-convert\" onclick=\"convertToInteractive('df-4f578795-983e-447e-a972-b24215921ca1')\"\n",
       "            title=\"Convert this dataframe to an interactive table.\"\n",
       "            style=\"display:none;\">\n",
       "\n",
       "  <svg xmlns=\"http://www.w3.org/2000/svg\" height=\"24px\" viewBox=\"0 -960 960 960\">\n",
       "    <path d=\"M120-120v-720h720v720H120Zm60-500h600v-160H180v160Zm220 220h160v-160H400v160Zm0 220h160v-160H400v160ZM180-400h160v-160H180v160Zm440 0h160v-160H620v160ZM180-180h160v-160H180v160Zm440 0h160v-160H620v160Z\"/>\n",
       "  </svg>\n",
       "    </button>\n",
       "\n",
       "  <style>\n",
       "    .colab-df-container {\n",
       "      display:flex;\n",
       "      gap: 12px;\n",
       "    }\n",
       "\n",
       "    .colab-df-convert {\n",
       "      background-color: #E8F0FE;\n",
       "      border: none;\n",
       "      border-radius: 50%;\n",
       "      cursor: pointer;\n",
       "      display: none;\n",
       "      fill: #1967D2;\n",
       "      height: 32px;\n",
       "      padding: 0 0 0 0;\n",
       "      width: 32px;\n",
       "    }\n",
       "\n",
       "    .colab-df-convert:hover {\n",
       "      background-color: #E2EBFA;\n",
       "      box-shadow: 0px 1px 2px rgba(60, 64, 67, 0.3), 0px 1px 3px 1px rgba(60, 64, 67, 0.15);\n",
       "      fill: #174EA6;\n",
       "    }\n",
       "\n",
       "    .colab-df-buttons div {\n",
       "      margin-bottom: 4px;\n",
       "    }\n",
       "\n",
       "    [theme=dark] .colab-df-convert {\n",
       "      background-color: #3B4455;\n",
       "      fill: #D2E3FC;\n",
       "    }\n",
       "\n",
       "    [theme=dark] .colab-df-convert:hover {\n",
       "      background-color: #434B5C;\n",
       "      box-shadow: 0px 1px 3px 1px rgba(0, 0, 0, 0.15);\n",
       "      filter: drop-shadow(0px 1px 2px rgba(0, 0, 0, 0.3));\n",
       "      fill: #FFFFFF;\n",
       "    }\n",
       "  </style>\n",
       "\n",
       "    <script>\n",
       "      const buttonEl =\n",
       "        document.querySelector('#df-4f578795-983e-447e-a972-b24215921ca1 button.colab-df-convert');\n",
       "      buttonEl.style.display =\n",
       "        google.colab.kernel.accessAllowed ? 'block' : 'none';\n",
       "\n",
       "      async function convertToInteractive(key) {\n",
       "        const element = document.querySelector('#df-4f578795-983e-447e-a972-b24215921ca1');\n",
       "        const dataTable =\n",
       "          await google.colab.kernel.invokeFunction('convertToInteractive',\n",
       "                                                    [key], {});\n",
       "        if (!dataTable) return;\n",
       "\n",
       "        const docLinkHtml = 'Like what you see? Visit the ' +\n",
       "          '<a target=\"_blank\" href=https://colab.research.google.com/notebooks/data_table.ipynb>data table notebook</a>'\n",
       "          + ' to learn more about interactive tables.';\n",
       "        element.innerHTML = '';\n",
       "        dataTable['output_type'] = 'display_data';\n",
       "        await google.colab.output.renderOutput(dataTable, element);\n",
       "        const docLink = document.createElement('div');\n",
       "        docLink.innerHTML = docLinkHtml;\n",
       "        element.appendChild(docLink);\n",
       "      }\n",
       "    </script>\n",
       "  </div>\n",
       "\n",
       "\n",
       "<div id=\"df-af0aaf87-e5df-402c-a40a-e4b06d7aac9a\">\n",
       "  <button class=\"colab-df-quickchart\" onclick=\"quickchart('df-af0aaf87-e5df-402c-a40a-e4b06d7aac9a')\"\n",
       "            title=\"Suggest charts\"\n",
       "            style=\"display:none;\">\n",
       "\n",
       "<svg xmlns=\"http://www.w3.org/2000/svg\" height=\"24px\"viewBox=\"0 0 24 24\"\n",
       "     width=\"24px\">\n",
       "    <g>\n",
       "        <path d=\"M19 3H5c-1.1 0-2 .9-2 2v14c0 1.1.9 2 2 2h14c1.1 0 2-.9 2-2V5c0-1.1-.9-2-2-2zM9 17H7v-7h2v7zm4 0h-2V7h2v10zm4 0h-2v-4h2v4z\"/>\n",
       "    </g>\n",
       "</svg>\n",
       "  </button>\n",
       "\n",
       "<style>\n",
       "  .colab-df-quickchart {\n",
       "      --bg-color: #E8F0FE;\n",
       "      --fill-color: #1967D2;\n",
       "      --hover-bg-color: #E2EBFA;\n",
       "      --hover-fill-color: #174EA6;\n",
       "      --disabled-fill-color: #AAA;\n",
       "      --disabled-bg-color: #DDD;\n",
       "  }\n",
       "\n",
       "  [theme=dark] .colab-df-quickchart {\n",
       "      --bg-color: #3B4455;\n",
       "      --fill-color: #D2E3FC;\n",
       "      --hover-bg-color: #434B5C;\n",
       "      --hover-fill-color: #FFFFFF;\n",
       "      --disabled-bg-color: #3B4455;\n",
       "      --disabled-fill-color: #666;\n",
       "  }\n",
       "\n",
       "  .colab-df-quickchart {\n",
       "    background-color: var(--bg-color);\n",
       "    border: none;\n",
       "    border-radius: 50%;\n",
       "    cursor: pointer;\n",
       "    display: none;\n",
       "    fill: var(--fill-color);\n",
       "    height: 32px;\n",
       "    padding: 0;\n",
       "    width: 32px;\n",
       "  }\n",
       "\n",
       "  .colab-df-quickchart:hover {\n",
       "    background-color: var(--hover-bg-color);\n",
       "    box-shadow: 0 1px 2px rgba(60, 64, 67, 0.3), 0 1px 3px 1px rgba(60, 64, 67, 0.15);\n",
       "    fill: var(--button-hover-fill-color);\n",
       "  }\n",
       "\n",
       "  .colab-df-quickchart-complete:disabled,\n",
       "  .colab-df-quickchart-complete:disabled:hover {\n",
       "    background-color: var(--disabled-bg-color);\n",
       "    fill: var(--disabled-fill-color);\n",
       "    box-shadow: none;\n",
       "  }\n",
       "\n",
       "  .colab-df-spinner {\n",
       "    border: 2px solid var(--fill-color);\n",
       "    border-color: transparent;\n",
       "    border-bottom-color: var(--fill-color);\n",
       "    animation:\n",
       "      spin 1s steps(1) infinite;\n",
       "  }\n",
       "\n",
       "  @keyframes spin {\n",
       "    0% {\n",
       "      border-color: transparent;\n",
       "      border-bottom-color: var(--fill-color);\n",
       "      border-left-color: var(--fill-color);\n",
       "    }\n",
       "    20% {\n",
       "      border-color: transparent;\n",
       "      border-left-color: var(--fill-color);\n",
       "      border-top-color: var(--fill-color);\n",
       "    }\n",
       "    30% {\n",
       "      border-color: transparent;\n",
       "      border-left-color: var(--fill-color);\n",
       "      border-top-color: var(--fill-color);\n",
       "      border-right-color: var(--fill-color);\n",
       "    }\n",
       "    40% {\n",
       "      border-color: transparent;\n",
       "      border-right-color: var(--fill-color);\n",
       "      border-top-color: var(--fill-color);\n",
       "    }\n",
       "    60% {\n",
       "      border-color: transparent;\n",
       "      border-right-color: var(--fill-color);\n",
       "    }\n",
       "    80% {\n",
       "      border-color: transparent;\n",
       "      border-right-color: var(--fill-color);\n",
       "      border-bottom-color: var(--fill-color);\n",
       "    }\n",
       "    90% {\n",
       "      border-color: transparent;\n",
       "      border-bottom-color: var(--fill-color);\n",
       "    }\n",
       "  }\n",
       "</style>\n",
       "\n",
       "  <script>\n",
       "    async function quickchart(key) {\n",
       "      const quickchartButtonEl =\n",
       "        document.querySelector('#' + key + ' button');\n",
       "      quickchartButtonEl.disabled = true;  // To prevent multiple clicks.\n",
       "      quickchartButtonEl.classList.add('colab-df-spinner');\n",
       "      try {\n",
       "        const charts = await google.colab.kernel.invokeFunction(\n",
       "            'suggestCharts', [key], {});\n",
       "      } catch (error) {\n",
       "        console.error('Error during call to suggestCharts:', error);\n",
       "      }\n",
       "      quickchartButtonEl.classList.remove('colab-df-spinner');\n",
       "      quickchartButtonEl.classList.add('colab-df-quickchart-complete');\n",
       "    }\n",
       "    (() => {\n",
       "      let quickchartButtonEl =\n",
       "        document.querySelector('#df-af0aaf87-e5df-402c-a40a-e4b06d7aac9a button');\n",
       "      quickchartButtonEl.style.display =\n",
       "        google.colab.kernel.accessAllowed ? 'block' : 'none';\n",
       "    })();\n",
       "  </script>\n",
       "</div>\n",
       "\n",
       "    </div>\n",
       "  </div>\n"
      ],
      "text/plain": [
       "          Data           Produto Categoria  Quantidade  Preço\n",
       "0   02/01/2023           COXINHA   SALGADO           3    9.0\n",
       "1   20/01/2023            PASTEL   SALGADO          14   12.0\n",
       "2   29/01/2023           ESFIRRA   SALGADO           5   15.0\n",
       "3   30/01/2023            SACOLE      DOCE           5   20.0\n",
       "4   02/01/2023  CHOCOLATE QUENTE  DIVERSOS           2    5.0\n",
       "5   20/01/2023           SORVETE      DOCE           9    8.0\n",
       "6   26/01/2023              AGUA  DIVERSOS          20    2.0\n",
       "7   29/01/2023              COCO  DIVERSOS          25    3.0\n",
       "8   30/01/2023           SORVETE      DOCE          10    8.0\n",
       "9   01/02/2023           COXINHA   SALGADO          13    9.0\n",
       "10  10/02/2023        BRIGADEIRO      DOCE          10    2.0\n",
       "11  16/02/2023               BIS      DOCE          15    5.0\n",
       "12  18/02/2023            RISOLE   SALGADO           4   10.0\n",
       "13  28/02/2023           ESFIRRA   SALGADO           9   15.0\n",
       "14  02/02/2023  CHOCOLATE QUENTE  DIVERSOS           3    5.0\n",
       "15  20/02/2023           SORVETE      DOCE          10    8.0\n",
       "16  26/02/2023              AGUA  DIVERSOS          21    2.0\n",
       "17  27/02/2023              COCO  DIVERSOS          26    3.0\n",
       "18  28/02/2023           SORVETE      DOCE          11    8.0\n",
       "19  02/03/2023           COXINHA   SALGADO          13    9.0\n",
       "20  20/03/2023            PASTEL   SALGADO           4   12.0\n",
       "21  29/03/2023           ESFIRRA   SALGADO           5   15.0\n",
       "22  30/03/2023            SACOLE      DOCE           5   20.0\n",
       "23  02/03/2023  CHOCOLATE QUENTE  DIVERSOS           4    5.0\n",
       "24  20/03/2023           SORVETE      DOCE          11    8.0\n",
       "25  26/03/2023              AGUA  DIVERSOS          22    2.0\n",
       "26  29/03/2023              COCO  DIVERSOS          28    3.0\n",
       "27  30/03/2023           SORVETE      DOCE          13    8.0\n",
       "28  01/04/2023           COXINHA   SALGADO          13    NaN\n",
       "29  10/04/2023        BRIGADEIRO      DOCE          10    2.0"
      ]
     },
     "execution_count": 42,
     "metadata": {},
     "output_type": "execute_result"
    }
   ],
   "source": [
    "df.head(30) #vizualizando o meu data frame"
   ]
  },
  {
   "cell_type": "code",
   "execution_count": 43,
   "metadata": {
    "id": "sQOSBghLO2c_"
   },
   "outputs": [],
   "source": [
    "df = df.drop_duplicates() #excluindo linhas dados duplicados"
   ]
  },
  {
   "cell_type": "code",
   "execution_count": 44,
   "metadata": {
    "id": "zy7hAlKcPJXP"
   },
   "outputs": [],
   "source": [
    "df = df.dropna() #excluindo linhas com valores faltantes nan ou none"
   ]
  },
  {
   "cell_type": "code",
   "execution_count": 45,
   "metadata": {
    "id": "Ixqlb9Q7PyY8"
   },
   "outputs": [],
   "source": [
    "df[\"Quantidade\"] = df[\"Quantidade\"].astype(int) #transformando a coluna quantidade em inteiro"
   ]
  },
  {
   "cell_type": "code",
   "execution_count": 46,
   "metadata": {
    "id": "7ds5CDYBQdbt"
   },
   "outputs": [],
   "source": [
    "df[\"Preço\"] = df[\"Preço\"].astype(float) #transformando a coluna preço em float"
   ]
  },
  {
   "cell_type": "code",
   "execution_count": 47,
   "metadata": {
    "id": "BUh7e2Z3ewV3"
   },
   "outputs": [],
   "source": [
    "df[\"Data\"] = pd.to_datetime(df[\"Data\"], format='%d/%m/%Y', errors='coerce') #convertendo a minha coluna data para datetime"
   ]
  },
  {
   "cell_type": "markdown",
   "metadata": {
    "id": "AZN9M7OSQn5O"
   },
   "source": [
    "Salvando meu dados modificados em csv"
   ]
  },
  {
   "cell_type": "code",
   "execution_count": 51,
   "metadata": {
    "id": "q24S2oqmQrLF"
   },
   "outputs": [],
   "source": [
    "df.to_csv(\"data_clean.csv.csv\", index=False)"
   ]
  },
  {
   "cell_type": "markdown",
   "metadata": {
    "id": "QO_LfRCBRd_N"
   },
   "source": [
    "Calculando o total de vendas Por produto"
   ]
  },
  {
   "cell_type": "code",
   "execution_count": 52,
   "metadata": {
    "id": "IxUoH0-4Ria4"
   },
   "outputs": [],
   "source": [
    "df[\"TOTAL_VENDAS\"] = df[\"Quantidade\"] * df[\"Preço\"]"
   ]
  },
  {
   "cell_type": "code",
   "execution_count": 65,
   "metadata": {
    "colab": {
     "base_uri": "https://localhost:8080/",
     "height": 363
    },
    "id": "of5LIr-8SO9Q",
    "outputId": "a84ec867-3836-4c49-e6d3-3c31871ad98f"
   },
   "outputs": [
    {
     "data": {
      "application/vnd.google.colaboratory.intrinsic+json": {
       "summary": "{\n  \"name\": \"df\",\n  \"rows\": 120,\n  \"fields\": [\n    {\n      \"column\": \"Data\",\n      \"properties\": {\n        \"dtype\": \"date\",\n        \"min\": \"2023-01-02 00:00:00\",\n        \"max\": \"2023-12-30 00:00:00\",\n        \"num_unique_values\": 95,\n        \"samples\": [\n          \"2023-10-02 00:00:00\",\n          \"2023-04-25 00:00:00\",\n          \"2023-10-26 00:00:00\"\n        ],\n        \"semantic_type\": \"\",\n        \"description\": \"\"\n      }\n    },\n    {\n      \"column\": \"Produto\",\n      \"properties\": {\n        \"dtype\": \"category\",\n        \"num_unique_values\": 11,\n        \"samples\": [\n          \"SORVETE\",\n          \"COXINHA\",\n          \"BIS\"\n        ],\n        \"semantic_type\": \"\",\n        \"description\": \"\"\n      }\n    },\n    {\n      \"column\": \"Categoria\",\n      \"properties\": {\n        \"dtype\": \"category\",\n        \"num_unique_values\": 3,\n        \"samples\": [\n          \"SALGADO\",\n          \"DOCE\",\n          \"DIVERSOS\"\n        ],\n        \"semantic_type\": \"\",\n        \"description\": \"\"\n      }\n    },\n    {\n      \"column\": \"Quantidade\",\n      \"properties\": {\n        \"dtype\": \"number\",\n        \"std\": 6,\n        \"min\": 1,\n        \"max\": 30,\n        \"num_unique_values\": 26,\n        \"samples\": [\n          13,\n          6,\n          3\n        ],\n        \"semantic_type\": \"\",\n        \"description\": \"\"\n      }\n    },\n    {\n      \"column\": \"Pre\\u00e7o\",\n      \"properties\": {\n        \"dtype\": \"number\",\n        \"std\": 5.018390548520412,\n        \"min\": 2.0,\n        \"max\": 20.0,\n        \"num_unique_values\": 9,\n        \"samples\": [\n          3.0,\n          12.0,\n          8.0\n        ],\n        \"semantic_type\": \"\",\n        \"description\": \"\"\n      }\n    },\n    {\n      \"column\": \"TOTAL_VENDAS\",\n      \"properties\": {\n        \"dtype\": \"number\",\n        \"std\": 44.17215414354016,\n        \"min\": 8.0,\n        \"max\": 240.0,\n        \"num_unique_values\": 41,\n        \"samples\": [\n          144.0,\n          78.0,\n          117.0\n        ],\n        \"semantic_type\": \"\",\n        \"description\": \"\"\n      }\n    }\n  ]\n}",
       "type": "dataframe",
       "variable_name": "df"
      },
      "text/html": [
       "\n",
       "  <div id=\"df-1fad113b-bf9b-41d1-940f-87d3f0a54294\" class=\"colab-df-container\">\n",
       "    <div>\n",
       "<style scoped>\n",
       "    .dataframe tbody tr th:only-of-type {\n",
       "        vertical-align: middle;\n",
       "    }\n",
       "\n",
       "    .dataframe tbody tr th {\n",
       "        vertical-align: top;\n",
       "    }\n",
       "\n",
       "    .dataframe thead th {\n",
       "        text-align: right;\n",
       "    }\n",
       "</style>\n",
       "<table border=\"1\" class=\"dataframe\">\n",
       "  <thead>\n",
       "    <tr style=\"text-align: right;\">\n",
       "      <th></th>\n",
       "      <th>Data</th>\n",
       "      <th>Produto</th>\n",
       "      <th>Categoria</th>\n",
       "      <th>Quantidade</th>\n",
       "      <th>Preço</th>\n",
       "      <th>TOTAL_VENDAS</th>\n",
       "    </tr>\n",
       "  </thead>\n",
       "  <tbody>\n",
       "    <tr>\n",
       "      <th>0</th>\n",
       "      <td>2023-01-02</td>\n",
       "      <td>COXINHA</td>\n",
       "      <td>SALGADO</td>\n",
       "      <td>3</td>\n",
       "      <td>9.0</td>\n",
       "      <td>27.0</td>\n",
       "    </tr>\n",
       "    <tr>\n",
       "      <th>1</th>\n",
       "      <td>2023-01-20</td>\n",
       "      <td>PASTEL</td>\n",
       "      <td>SALGADO</td>\n",
       "      <td>14</td>\n",
       "      <td>12.0</td>\n",
       "      <td>168.0</td>\n",
       "    </tr>\n",
       "    <tr>\n",
       "      <th>2</th>\n",
       "      <td>2023-01-29</td>\n",
       "      <td>ESFIRRA</td>\n",
       "      <td>SALGADO</td>\n",
       "      <td>5</td>\n",
       "      <td>15.0</td>\n",
       "      <td>75.0</td>\n",
       "    </tr>\n",
       "    <tr>\n",
       "      <th>3</th>\n",
       "      <td>2023-01-30</td>\n",
       "      <td>SACOLE</td>\n",
       "      <td>DOCE</td>\n",
       "      <td>5</td>\n",
       "      <td>20.0</td>\n",
       "      <td>100.0</td>\n",
       "    </tr>\n",
       "    <tr>\n",
       "      <th>4</th>\n",
       "      <td>2023-01-02</td>\n",
       "      <td>CHOCOLATE QUENTE</td>\n",
       "      <td>DIVERSOS</td>\n",
       "      <td>2</td>\n",
       "      <td>5.0</td>\n",
       "      <td>10.0</td>\n",
       "    </tr>\n",
       "    <tr>\n",
       "      <th>5</th>\n",
       "      <td>2023-01-20</td>\n",
       "      <td>SORVETE</td>\n",
       "      <td>DOCE</td>\n",
       "      <td>9</td>\n",
       "      <td>8.0</td>\n",
       "      <td>72.0</td>\n",
       "    </tr>\n",
       "    <tr>\n",
       "      <th>6</th>\n",
       "      <td>2023-01-26</td>\n",
       "      <td>AGUA</td>\n",
       "      <td>DIVERSOS</td>\n",
       "      <td>20</td>\n",
       "      <td>2.0</td>\n",
       "      <td>40.0</td>\n",
       "    </tr>\n",
       "    <tr>\n",
       "      <th>7</th>\n",
       "      <td>2023-01-29</td>\n",
       "      <td>COCO</td>\n",
       "      <td>DIVERSOS</td>\n",
       "      <td>25</td>\n",
       "      <td>3.0</td>\n",
       "      <td>75.0</td>\n",
       "    </tr>\n",
       "    <tr>\n",
       "      <th>8</th>\n",
       "      <td>2023-01-30</td>\n",
       "      <td>SORVETE</td>\n",
       "      <td>DOCE</td>\n",
       "      <td>10</td>\n",
       "      <td>8.0</td>\n",
       "      <td>80.0</td>\n",
       "    </tr>\n",
       "    <tr>\n",
       "      <th>9</th>\n",
       "      <td>2023-02-01</td>\n",
       "      <td>COXINHA</td>\n",
       "      <td>SALGADO</td>\n",
       "      <td>13</td>\n",
       "      <td>9.0</td>\n",
       "      <td>117.0</td>\n",
       "    </tr>\n",
       "  </tbody>\n",
       "</table>\n",
       "</div>\n",
       "    <div class=\"colab-df-buttons\">\n",
       "\n",
       "  <div class=\"colab-df-container\">\n",
       "    <button class=\"colab-df-convert\" onclick=\"convertToInteractive('df-1fad113b-bf9b-41d1-940f-87d3f0a54294')\"\n",
       "            title=\"Convert this dataframe to an interactive table.\"\n",
       "            style=\"display:none;\">\n",
       "\n",
       "  <svg xmlns=\"http://www.w3.org/2000/svg\" height=\"24px\" viewBox=\"0 -960 960 960\">\n",
       "    <path d=\"M120-120v-720h720v720H120Zm60-500h600v-160H180v160Zm220 220h160v-160H400v160Zm0 220h160v-160H400v160ZM180-400h160v-160H180v160Zm440 0h160v-160H620v160ZM180-180h160v-160H180v160Zm440 0h160v-160H620v160Z\"/>\n",
       "  </svg>\n",
       "    </button>\n",
       "\n",
       "  <style>\n",
       "    .colab-df-container {\n",
       "      display:flex;\n",
       "      gap: 12px;\n",
       "    }\n",
       "\n",
       "    .colab-df-convert {\n",
       "      background-color: #E8F0FE;\n",
       "      border: none;\n",
       "      border-radius: 50%;\n",
       "      cursor: pointer;\n",
       "      display: none;\n",
       "      fill: #1967D2;\n",
       "      height: 32px;\n",
       "      padding: 0 0 0 0;\n",
       "      width: 32px;\n",
       "    }\n",
       "\n",
       "    .colab-df-convert:hover {\n",
       "      background-color: #E2EBFA;\n",
       "      box-shadow: 0px 1px 2px rgba(60, 64, 67, 0.3), 0px 1px 3px 1px rgba(60, 64, 67, 0.15);\n",
       "      fill: #174EA6;\n",
       "    }\n",
       "\n",
       "    .colab-df-buttons div {\n",
       "      margin-bottom: 4px;\n",
       "    }\n",
       "\n",
       "    [theme=dark] .colab-df-convert {\n",
       "      background-color: #3B4455;\n",
       "      fill: #D2E3FC;\n",
       "    }\n",
       "\n",
       "    [theme=dark] .colab-df-convert:hover {\n",
       "      background-color: #434B5C;\n",
       "      box-shadow: 0px 1px 3px 1px rgba(0, 0, 0, 0.15);\n",
       "      filter: drop-shadow(0px 1px 2px rgba(0, 0, 0, 0.3));\n",
       "      fill: #FFFFFF;\n",
       "    }\n",
       "  </style>\n",
       "\n",
       "    <script>\n",
       "      const buttonEl =\n",
       "        document.querySelector('#df-1fad113b-bf9b-41d1-940f-87d3f0a54294 button.colab-df-convert');\n",
       "      buttonEl.style.display =\n",
       "        google.colab.kernel.accessAllowed ? 'block' : 'none';\n",
       "\n",
       "      async function convertToInteractive(key) {\n",
       "        const element = document.querySelector('#df-1fad113b-bf9b-41d1-940f-87d3f0a54294');\n",
       "        const dataTable =\n",
       "          await google.colab.kernel.invokeFunction('convertToInteractive',\n",
       "                                                    [key], {});\n",
       "        if (!dataTable) return;\n",
       "\n",
       "        const docLinkHtml = 'Like what you see? Visit the ' +\n",
       "          '<a target=\"_blank\" href=https://colab.research.google.com/notebooks/data_table.ipynb>data table notebook</a>'\n",
       "          + ' to learn more about interactive tables.';\n",
       "        element.innerHTML = '';\n",
       "        dataTable['output_type'] = 'display_data';\n",
       "        await google.colab.output.renderOutput(dataTable, element);\n",
       "        const docLink = document.createElement('div');\n",
       "        docLink.innerHTML = docLinkHtml;\n",
       "        element.appendChild(docLink);\n",
       "      }\n",
       "    </script>\n",
       "  </div>\n",
       "\n",
       "\n",
       "<div id=\"df-91c56607-52e9-40b9-9ab9-3a7f9700f81e\">\n",
       "  <button class=\"colab-df-quickchart\" onclick=\"quickchart('df-91c56607-52e9-40b9-9ab9-3a7f9700f81e')\"\n",
       "            title=\"Suggest charts\"\n",
       "            style=\"display:none;\">\n",
       "\n",
       "<svg xmlns=\"http://www.w3.org/2000/svg\" height=\"24px\"viewBox=\"0 0 24 24\"\n",
       "     width=\"24px\">\n",
       "    <g>\n",
       "        <path d=\"M19 3H5c-1.1 0-2 .9-2 2v14c0 1.1.9 2 2 2h14c1.1 0 2-.9 2-2V5c0-1.1-.9-2-2-2zM9 17H7v-7h2v7zm4 0h-2V7h2v10zm4 0h-2v-4h2v4z\"/>\n",
       "    </g>\n",
       "</svg>\n",
       "  </button>\n",
       "\n",
       "<style>\n",
       "  .colab-df-quickchart {\n",
       "      --bg-color: #E8F0FE;\n",
       "      --fill-color: #1967D2;\n",
       "      --hover-bg-color: #E2EBFA;\n",
       "      --hover-fill-color: #174EA6;\n",
       "      --disabled-fill-color: #AAA;\n",
       "      --disabled-bg-color: #DDD;\n",
       "  }\n",
       "\n",
       "  [theme=dark] .colab-df-quickchart {\n",
       "      --bg-color: #3B4455;\n",
       "      --fill-color: #D2E3FC;\n",
       "      --hover-bg-color: #434B5C;\n",
       "      --hover-fill-color: #FFFFFF;\n",
       "      --disabled-bg-color: #3B4455;\n",
       "      --disabled-fill-color: #666;\n",
       "  }\n",
       "\n",
       "  .colab-df-quickchart {\n",
       "    background-color: var(--bg-color);\n",
       "    border: none;\n",
       "    border-radius: 50%;\n",
       "    cursor: pointer;\n",
       "    display: none;\n",
       "    fill: var(--fill-color);\n",
       "    height: 32px;\n",
       "    padding: 0;\n",
       "    width: 32px;\n",
       "  }\n",
       "\n",
       "  .colab-df-quickchart:hover {\n",
       "    background-color: var(--hover-bg-color);\n",
       "    box-shadow: 0 1px 2px rgba(60, 64, 67, 0.3), 0 1px 3px 1px rgba(60, 64, 67, 0.15);\n",
       "    fill: var(--button-hover-fill-color);\n",
       "  }\n",
       "\n",
       "  .colab-df-quickchart-complete:disabled,\n",
       "  .colab-df-quickchart-complete:disabled:hover {\n",
       "    background-color: var(--disabled-bg-color);\n",
       "    fill: var(--disabled-fill-color);\n",
       "    box-shadow: none;\n",
       "  }\n",
       "\n",
       "  .colab-df-spinner {\n",
       "    border: 2px solid var(--fill-color);\n",
       "    border-color: transparent;\n",
       "    border-bottom-color: var(--fill-color);\n",
       "    animation:\n",
       "      spin 1s steps(1) infinite;\n",
       "  }\n",
       "\n",
       "  @keyframes spin {\n",
       "    0% {\n",
       "      border-color: transparent;\n",
       "      border-bottom-color: var(--fill-color);\n",
       "      border-left-color: var(--fill-color);\n",
       "    }\n",
       "    20% {\n",
       "      border-color: transparent;\n",
       "      border-left-color: var(--fill-color);\n",
       "      border-top-color: var(--fill-color);\n",
       "    }\n",
       "    30% {\n",
       "      border-color: transparent;\n",
       "      border-left-color: var(--fill-color);\n",
       "      border-top-color: var(--fill-color);\n",
       "      border-right-color: var(--fill-color);\n",
       "    }\n",
       "    40% {\n",
       "      border-color: transparent;\n",
       "      border-right-color: var(--fill-color);\n",
       "      border-top-color: var(--fill-color);\n",
       "    }\n",
       "    60% {\n",
       "      border-color: transparent;\n",
       "      border-right-color: var(--fill-color);\n",
       "    }\n",
       "    80% {\n",
       "      border-color: transparent;\n",
       "      border-right-color: var(--fill-color);\n",
       "      border-bottom-color: var(--fill-color);\n",
       "    }\n",
       "    90% {\n",
       "      border-color: transparent;\n",
       "      border-bottom-color: var(--fill-color);\n",
       "    }\n",
       "  }\n",
       "</style>\n",
       "\n",
       "  <script>\n",
       "    async function quickchart(key) {\n",
       "      const quickchartButtonEl =\n",
       "        document.querySelector('#' + key + ' button');\n",
       "      quickchartButtonEl.disabled = true;  // To prevent multiple clicks.\n",
       "      quickchartButtonEl.classList.add('colab-df-spinner');\n",
       "      try {\n",
       "        const charts = await google.colab.kernel.invokeFunction(\n",
       "            'suggestCharts', [key], {});\n",
       "      } catch (error) {\n",
       "        console.error('Error during call to suggestCharts:', error);\n",
       "      }\n",
       "      quickchartButtonEl.classList.remove('colab-df-spinner');\n",
       "      quickchartButtonEl.classList.add('colab-df-quickchart-complete');\n",
       "    }\n",
       "    (() => {\n",
       "      let quickchartButtonEl =\n",
       "        document.querySelector('#df-91c56607-52e9-40b9-9ab9-3a7f9700f81e button');\n",
       "      quickchartButtonEl.style.display =\n",
       "        google.colab.kernel.accessAllowed ? 'block' : 'none';\n",
       "    })();\n",
       "  </script>\n",
       "</div>\n",
       "\n",
       "    </div>\n",
       "  </div>\n"
      ],
      "text/plain": [
       "        Data           Produto Categoria  Quantidade  Preço  TOTAL_VENDAS\n",
       "0 2023-01-02           COXINHA   SALGADO           3    9.0          27.0\n",
       "1 2023-01-20            PASTEL   SALGADO          14   12.0         168.0\n",
       "2 2023-01-29           ESFIRRA   SALGADO           5   15.0          75.0\n",
       "3 2023-01-30            SACOLE      DOCE           5   20.0         100.0\n",
       "4 2023-01-02  CHOCOLATE QUENTE  DIVERSOS           2    5.0          10.0\n",
       "5 2023-01-20           SORVETE      DOCE           9    8.0          72.0\n",
       "6 2023-01-26              AGUA  DIVERSOS          20    2.0          40.0\n",
       "7 2023-01-29              COCO  DIVERSOS          25    3.0          75.0\n",
       "8 2023-01-30           SORVETE      DOCE          10    8.0          80.0\n",
       "9 2023-02-01           COXINHA   SALGADO          13    9.0         117.0"
      ]
     },
     "execution_count": 65,
     "metadata": {},
     "output_type": "execute_result"
    }
   ],
   "source": [
    "df.head(10) #vizualizando o meu data frame"
   ]
  },
  {
   "cell_type": "markdown",
   "metadata": {
    "id": "xazM4tMYSVPm"
   },
   "source": [
    "Vou agrupar meus produtos e somar as vendas"
   ]
  },
  {
   "cell_type": "code",
   "execution_count": 54,
   "metadata": {
    "id": "QNwnBGwySavp"
   },
   "outputs": [],
   "source": [
    "Vendas_by_produto = df.groupby(\"Produto\")[\"TOTAL_VENDAS\"].sum()"
   ]
  },
  {
   "cell_type": "code",
   "execution_count": 55,
   "metadata": {
    "id": "UvmPrtPDS6ZG"
   },
   "outputs": [],
   "source": [
    "produto_most_sell = Vendas_by_produto.idxmax()  #produto mais vendido vai aparecer aqui"
   ]
  },
  {
   "cell_type": "code",
   "execution_count": 56,
   "metadata": {
    "id": "hQ1ePD7KTH2H"
   },
   "outputs": [],
   "source": [
    "valor_mais_vendido = Vendas_by_produto.max() #valor do produto mais vendido vai aparecer aqui"
   ]
  },
  {
   "cell_type": "code",
   "execution_count": 79,
   "metadata": {
    "colab": {
     "base_uri": "https://localhost:8080/"
    },
    "id": "yIqcCF89Tc19",
    "outputId": "699cc31b-d169-42ab-dc09-e075ceb091b1"
   },
   "outputs": [
    {
     "name": "stdout",
     "output_type": "stream",
     "text": [
      "produto que mais vendeu 2023\n",
      "SORVETE\n",
      "valor total do produto que mais vendeu no ano\n",
      "2120.0\n"
     ]
    }
   ],
   "source": [
    "print(\"produto que mais vendeu 2023\")\n",
    "print(produto_most_sell)\n",
    "print(\"valor total do produto que mais vendeu no ano\")\n",
    "print(valor_mais_vendido)"
   ]
  },
  {
   "cell_type": "markdown",
   "metadata": {
    "id": "_ciWnQjLf4kO"
   },
   "source": [
    "2.   Análise Exploratória de Dados de Vendas"
   ]
  },
  {
   "cell_type": "code",
   "execution_count": 58,
   "metadata": {
    "id": "hHZrNB0jg9c1"
   },
   "outputs": [],
   "source": [
    "import matplotlib.pyplot as plt"
   ]
  },
  {
   "cell_type": "code",
   "execution_count": 59,
   "metadata": {
    "id": "8NUgISDnbXLt"
   },
   "outputs": [],
   "source": [
    "df_mensal =df.resample(\"ME\",on=\"Data\").sum() #somando as vendas por mês"
   ]
  },
  {
   "cell_type": "code",
   "execution_count": null,
   "metadata": {
    "colab": {
     "base_uri": "https://localhost:8080/",
     "height": 564
    },
    "id": "tfgYRx4ghFgN",
    "outputId": "0e27f20e-aa2e-458a-ff7f-64cdb88da453"
   },
   "outputs": [
    {
     "data": {
      "image/png": "[encoded data removed]",
      "text/plain": [
       "<Figure size 1200x600 with 1 Axes>"
      ]
     },
     "metadata": {},
     "output_type": "display_data"
    }
   ],
   "source": [
    "plt.figure(figsize=(12,6))\n",
    "plt.plot(df_mensal.index, df_mensal[\"TOTAL_VENDAS\"], 'o-b', label=\"Vendas Mensais\") #função plt para plotar os dados de total vendas num grafico de linha \n",
    "plt.title(\"Agrupamento de Vendas Mensais (2023)\")\n",
    "plt.xlabel(\"Mês\") #meu titulo eixo x\n",
    "plt.ylabel(\"total de vendas\") #meu titulo eixo y\n",
    "plt.title(\"Vendas Mensais\") #meu titulo do grafico\n",
    "plt.grid(True,linestyle=\"--\",color=\"gray\")\n",
    "plt.xticks(ticks=df_mensal.index, labels=df_mensal.index.strftime('%b'))\n",
    "plt.show()\n"
   ]
  },
  {
   "cell_type": "markdown",
   "metadata": {
    "id": "HLmlzWtrkoUy"
   },
   "source": [
    "Meses de maior vendas foram Abril e Dezembro por causa provavel do verão"
   ]
  },
  {
   "cell_type": "markdown",
   "metadata": {
    "id": "DAZ5bQdZkwXI"
   },
   "source": [
    "Meses de menos vendas junho e julho\n",
    " por causa provavel do inverno"
   ]
  },
  {
   "cell_type": "markdown",
   "metadata": {
    "id": "RtL6C4CG9q59"
   },
   "source": [
    "Vamos observar a Categoria com maior numero de vendas\n"
   ]
  },
  {
   "cell_type": "code",
   "execution_count": 67,
   "metadata": {
    "id": "rvPk1FkM9xIs"
   },
   "outputs": [],
   "source": [
    "sell_by_category = df.groupby(\"Categoria\")[\"TOTAL_VENDAS\"].sum().sort_values(ascending=False) #agrupando meu numero total de vendas por categoria"
   ]
  },
  {
   "cell_type": "code",
   "execution_count": null,
   "metadata": {
    "colab": {
     "base_uri": "https://localhost:8080/",
     "height": 564
    },
    "id": "CMpWolCg_I5K",
    "outputId": "1022f9c4-de99-4477-e7b7-c3f980b8dd9a"
   },
   "outputs": [
    {
     "data": {
      "image/png": "[encoded data removed]",
      "text/plain": [
       "<Figure size 1000x600 with 1 Axes>"
      ]
     },
     "metadata": {},
     "output_type": "display_data"
    }
   ],
   "source": [
    "#criando grafico de Barras para representar vendas por categoria\n",
    "plt.figure(figsize=(10,6)) #tamanho do meu grafico \n",
    "plt.bar(sell_by_category.index,sell_by_category.values, color=\"pink\")#configuração de cor das barras\n",
    "plt.title(\"Vendas por Categoria\")\n",
    "plt.xlabel(\"Categoria\")\n",
    "plt.ylabel(\"Total de Vendas\")\n",
    "plt.show() #plt para exibir "
   ]
  },
  {
   "cell_type": "markdown",
   "metadata": {
    "id": "HrnXS6sk_sn6"
   },
   "source": [
    "Podemos observar que os produtos que mais venderam durante o ano foram os doces\n"
   ]
  },
  {
   "cell_type": "markdown",
   "metadata": {
    "id": "TbZp2l5uAj4n"
   },
   "source": [
    "Vou criar outro gráfico para saber quais produtos mais venderam na categoria Doces"
   ]
  },
  {
   "cell_type": "code",
   "execution_count": 70,
   "metadata": {
    "id": "lHRikR88B0d5"
   },
   "outputs": [],
   "source": [
    "doces = df[df[\"Categoria\"] == \"DOCE\"] #filtrando somente os produtos doces em minha categoria"
   ]
  },
  {
   "cell_type": "code",
   "execution_count": 72,
   "metadata": {
    "id": "8Q9r5eYIAuk5"
   },
   "outputs": [],
   "source": [
    "sell_by_doces = doces.groupby(\"Produto\")[\"TOTAL_VENDAS\"].sum().sort_values(ascending=False) #agrupando todas as minhas vendas de doces\n"
   ]
  },
  {
   "cell_type": "code",
   "execution_count": null,
   "metadata": {
    "colab": {
     "base_uri": "https://localhost:8080/",
     "height": 564
    },
    "id": "UF8tjcvWCDsk",
    "outputId": "9cdf6f9e-20fb-49a7-f94a-4dc00782187d"
   },
   "outputs": [
    {
     "data": {
      "image/png": "[encoded data removed]",
      "text/plain": [
       "<Figure size 1000x600 with 1 Axes>"
      ]
     },
     "metadata": {},
     "output_type": "display_data"
    }
   ],
   "source": [
    "plt.figure(figsize=(10,6))\n",
    "plt.bar(sell_by_doces.index,sell_by_doces.values, color=\"purple\") #configuração de cor para o grafico de barrar representar o sel_y_doces\n",
    "plt.title(\"Produtos mais vendidos em Doces\")\n",
    "plt.xlabel(\"Produto\")\n",
    "plt.ylabel(\"Total de Vendas\")\n",
    "plt.show()"
   ]
  },
  {
   "cell_type": "markdown",
   "metadata": {
    "id": "fcj2MyhvCq3y"
   },
   "source": [
    "Podemos obervar que o soverte foi o que mais vendeu seguido do sacole\n"
   ]
  }
 ],
 "metadata": {
  "colab": {
   "include_colab_link": true,
   "provenance": []
  },
  "kernelspec": {
   "display_name": "Python 3",
   "name": "python3"
  },
  "language_info": {
   "name": "python"
  }
 },
 "nbformat": 4,
 "nbformat_minor": 0
}
